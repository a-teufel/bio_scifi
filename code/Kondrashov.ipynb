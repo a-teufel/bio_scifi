{
 "cells": [
  {
   "cell_type": "code",
   "execution_count": null,
   "metadata": {},
   "outputs": [],
   "source": [
    "%matplotlib inline\n",
    "import matplotlib.pyplot as plt\n",
    "import numpy as np\n",
    "import scipy\n",
    "from math import factorial\n",
    "from scipy.special import comb"
   ]
  },
  {
   "cell_type": "code",
   "execution_count": null,
   "metadata": {
    "scrolled": false
   },
   "outputs": [],
   "source": [
    "# alpha = 1 linear decrease of fitness with mutation\n",
    "# alpha = 2 nonlinear (positive epistatis)\n",
    "alpha = 2.\n",
    "K     = 5     # max allowed mutations\n",
    "mu    = 8.0    # mutation rate\n",
    "\n",
    "\n",
    "\n",
    "nloci = K+1\n",
    "\n",
    "\n",
    "fitnesses = np.zeros(nloci)\n",
    "fitnesses[:K+1] = 1.0 - (np.arange(K+1)/K)**alpha\n",
    "plt.figure()\n",
    "plt.plot(fitnesses)\n",
    "print(fitnesses)\n",
    "\n",
    "def iteration(freqs, sexual=True):\n",
    "    N = len(freqs)\n",
    "    freqs2 = np.zeros(N)\n",
    "    for i in range(K+1):\n",
    "        freqs2[i] = np.exp(-mu)*sum([freqs[j]*(mu**(i-j))/factorial(i-j) for j in range(i+1)])\n",
    "\n",
    "    if sexual:\n",
    "    \n",
    "        freqs3 = np.zeros(N)\n",
    "        for i in range(N):\n",
    "            for mut1 in range(N):\n",
    "                for mut2 in range(N):\n",
    "                    if mut1 + mut2 < i:\n",
    "                        continue\n",
    "                    freqs3[i] +=  freqs2[mut1]*freqs2[mut2]*comb(mut1+mut2,i)*(0.5**(mut1+mut2))\n",
    "\n",
    "    else:\n",
    "        freqs3 = freqs2\n",
    "        \n",
    "    freqs4 = np.multiply(fitnesses, freqs3)\n",
    "    freqs4 /= freqs4.sum()\n",
    "        \n",
    "    return freqs4\n",
    "\n",
    "\n",
    "cfreq = np.zeros_like(fitnesses)\n",
    "cfreq[1] = 1.0\n",
    "\n",
    "trajectory = []\n",
    "for gen in range(100):\n",
    "    trajectory.append(cfreq[:])\n",
    "    cfreq = iteration(cfreq, True)\n",
    "    assert(np.isclose(sum(cfreq),1))\n",
    "    \n",
    "trajectory.append(cfreq[:])\n",
    "\n",
    "mean_num_mutations = np.sum(trajectory*np.arange(nloci),axis=1)\n",
    "mean_fitness       = np.sum(trajectory*fitnesses,axis=1)\n",
    "\n",
    "print(mean_num_mutations[0] , mean_fitness[0])\n",
    "print(mean_num_mutations[-1], mean_fitness[-1])\n",
    "                            \n",
    "trajectory = np.array(trajectory)\n",
    "plt.figure()\n",
    "plt.plot(mean_num_mutations)\n",
    "plt.xlabel('Generation')\n",
    "plt.ylabel('Mean # of mutations')\n",
    "plt.ylim([0, plt.ylim()[1]*2])"
   ]
  },
  {
   "cell_type": "code",
   "execution_count": null,
   "metadata": {},
   "outputs": [],
   "source": [
    "plt.plot(trajectory[-1,:])"
   ]
  },
  {
   "cell_type": "code",
   "execution_count": null,
   "metadata": {},
   "outputs": [],
   "source": [
    "plt.plot(fitnesses)"
   ]
  },
  {
   "cell_type": "code",
   "execution_count": null,
   "metadata": {},
   "outputs": [],
   "source": [
    "np.exp(-0.5)"
   ]
  },
  {
   "cell_type": "code",
   "execution_count": null,
   "metadata": {},
   "outputs": [],
   "source": []
  }
 ],
 "metadata": {
  "kernelspec": {
   "display_name": "Python 3",
   "language": "python",
   "name": "python3"
  },
  "language_info": {
   "codemirror_mode": {
    "name": "ipython",
    "version": 3
   },
   "file_extension": ".py",
   "mimetype": "text/x-python",
   "name": "python",
   "nbconvert_exporter": "python",
   "pygments_lexer": "ipython3",
   "version": "3.6.5"
  }
 },
 "nbformat": 4,
 "nbformat_minor": 2
}
